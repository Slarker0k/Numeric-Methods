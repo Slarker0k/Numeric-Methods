{
 "cells": [
  {
   "cell_type": "code",
   "execution_count": null,
   "metadata": {},
   "outputs": [],
   "source": [
    "from numpy import sign\n",
    "from numpy import sin,cos\n",
    "import math\n",
    "from scipy.misc import derivative\n",
    "import numpy as np"
   ]
  },
  {
   "cell_type": "code",
   "execution_count": null,
   "metadata": {},
   "outputs": [],
   "source": [
    "def f(x):\n",
    "    return (x+18)**(0.5)+1-x"
   ]
  },
  {
   "cell_type": "markdown",
   "metadata": {},
   "source": [
    "# Bisection"
   ]
  },
  {
   "cell_type": "code",
   "execution_count": null,
   "metadata": {},
   "outputs": [],
   "source": [
    "def bisection(f, a, b, tol = 0.00001, eps = 0.0001,max_iter = 100):\n",
    "    \"\"\"\n",
    "    Arguments:\n",
    "    f - function,\n",
    "    a,b - interval\n",
    "    tol - tolerance\n",
    "    eps - precision\n",
    "    max_iter - max iteration\n",
    "    return: (c,i,a,b) c is result, i is iteration, a,b is final a,b\n",
    "    \"\"\"\n",
    "    i=0\n",
    "    c = (a+b)/2.0\n",
    "    while(abs(c-a)>=eps and f(c)!=0 and (b-a)/2.0 > tol and max_iter>i):\n",
    "        if sign(f(c))==sign(f(a)):\n",
    "            a=c\n",
    "        else: \n",
    "            b=c\n",
    "        i+=1\n",
    "        if i%10 == 0:\n",
    "            print(\"Iteration #\",i,\" c: \",c)\n",
    "        c = (a+b)/2.0\n",
    "    return (c,i, a,b)"
   ]
  },
  {
   "cell_type": "code",
   "execution_count": null,
   "metadata": {},
   "outputs": [],
   "source": [
    "a,b = 0,10\n",
    "eps = 0.00001\n",
    "tol = 0.00001"
   ]
  },
  {
   "cell_type": "code",
   "execution_count": null,
   "metadata": {},
   "outputs": [],
   "source": [
    "bisection(f,a,b,tol,eps)"
   ]
  },
  {
   "cell_type": "markdown",
   "metadata": {},
   "source": [
    "# Fixed-point iteration"
   ]
  },
  {
   "cell_type": "code",
   "execution_count": null,
   "metadata": {},
   "outputs": [],
   "source": [
    "def fixedPointIter(f,x,eps=0.1,max_iter=100):\n",
    "    \"\"\"\n",
    "    f - function,\n",
    "    x - x0,\n",
    "    eps - precision,\n",
    "    max_iter - max iteration\n",
    "    return (x1,i) x1 is root, i is iteration\n",
    "    \"\"\"\n",
    "    x1 = f(x)\n",
    "    i=0\n",
    "    while(abs(x1-x)>eps and i<(max_iter+1)):\n",
    "        x=x1\n",
    "        if(i%10==0):\n",
    "            print(i,x)\n",
    "        x1 = f(x)\n",
    "        i+=1\n",
    "    return (x1,i)\n"
   ]
  },
  {
   "cell_type": "code",
   "execution_count": null,
   "metadata": {},
   "outputs": [],
   "source": [
    "fixedPointIter(f,3)"
   ]
  },
  {
   "cell_type": "markdown",
   "metadata": {},
   "source": [
    "## Newtons"
   ]
  },
  {
   "cell_type": "code",
   "execution_count": null,
   "metadata": {},
   "outputs": [],
   "source": [
    "def df(x):\n",
    "    return 4*(x**3)-1"
   ]
  },
  {
   "cell_type": "code",
   "execution_count": null,
   "metadata": {},
   "outputs": [],
   "source": [
    "def newtons(f,x0,eps=0.0001,max_iter=100,df=None,use_scipy=False,derivative_h=0.00000000001):\n",
    "    \"\"\"\n",
    "    f - fuction,\n",
    "    x0 - x0,\n",
    "    eps - precision,\n",
    "    max_iter - max iteration,\n",
    "    df - derivative function,\n",
    "    use_scipy - use scipy derivative function,\n",
    "    derivative_h - derivative variable for default function\n",
    "    return: (x,i) x - is root and i is iterations\n",
    "    \"\"\"\n",
    "    i=0\n",
    "    def deriv(f,x,h):\n",
    "        return (f(x+h)-f(x))/h\n",
    "    def g(xi):\n",
    "        if df!=None:\n",
    "            return xi-(f(xi)/df(xi))\n",
    "        if use_scipy:\n",
    "            return xi-(f(xi)/derivative(f,xi))\n",
    "        return xi-(f(xi)/deriv(f,xi,derivative_h))    \n",
    "    x=g(x0)\n",
    "    while(i<max_iter and abs(x-x0)>eps):\n",
    "        x0=x\n",
    "        x=g(x0)\n",
    "        i+=1\n",
    "    return x,i"
   ]
  },
  {
   "cell_type": "code",
   "execution_count": null,
   "metadata": {},
   "outputs": [],
   "source": [
    "newtons(f,0,eps=0.000001)"
   ]
  },
  {
   "cell_type": "markdown",
   "metadata": {},
   "source": [
    "## Gaussian"
   ]
  },
  {
   "cell_type": "code",
   "execution_count": null,
   "metadata": {},
   "outputs": [],
   "source": [
    "matrix = np.array([[3,4,-1],[0,0,10],[0,0,-2]])#,dtype=np.float64)\n",
    "b=np.array([-6,-8,-2],dtype=np.float64)\n",
    "n=b.shape[0]"
   ]
  },
  {
   "cell_type": "code",
   "execution_count": null,
   "metadata": {},
   "outputs": [],
   "source": [
    "def gaussian(matrix,b_vect,n):\n",
    "    \"\"\"\n",
    "    matrix - A from Ax=b,\n",
    "    b_vect - b from Ax=b,\n",
    "    return: None if there is 0 on main diagonal and it cant be swaped,\n",
    "    return x - vector of roots\n",
    "    \"\"\"\n",
    "    matrix = matrix.astype(np.float64)\n",
    "    b_vect = b_vect.astype(np.float64)\n",
    "    matrix=np.hstack([matrix,b_vect.reshape(-1,1)])\n",
    "    \n",
    "    needToSwap = False\n",
    "#     print(matrix)\n",
    "    for i in range(n):\n",
    "#         print(matrix)\n",
    "        if matrix[i][i]==0:\n",
    "            needToSwap=True\n",
    "            for k in range(n):\n",
    "                if matrix[k][i]!=0 and matrix[i][k]!=0:\n",
    "#                     print(\"swapping \",i,\" \",k)\n",
    "                    temp = matrix[k].copy()\n",
    "                    matrix[k] = matrix[i]\n",
    "                    matrix[i] = temp\n",
    "                    needToSwap = False\n",
    "                    break\n",
    "    if needToSwap:\n",
    "       return None\n",
    "#     print(matrix)\n",
    "    for i in range(n):\n",
    "        matrix[i]/=matrix[i][i]\n",
    "        for j in range(i,n):\n",
    "            if j != n-1:\n",
    "                matrix[j+1]-=matrix[i]*matrix[j+1][i]\n",
    "    res = []\n",
    "    res.append(matrix[n-1][n])\n",
    "#     print(matrix)\n",
    "    for i in range(n-1,-1,-1):\n",
    "        for j in range(n-1,i,-1):\n",
    "            matrix[i][n]-=res[n-j]*matrix[i][j]\n",
    "            matrix[i][j]=0\n",
    "#             print(matrix)\n",
    "        res.append(matrix[i][n])\n",
    "    return res[::-1][:n]"
   ]
  },
  {
   "cell_type": "code",
   "execution_count": null,
   "metadata": {},
   "outputs": [],
   "source": [
    "gaussian(matrix,b,n)"
   ]
  },
  {
   "cell_type": "markdown",
   "metadata": {},
   "source": [
    "## Tridiagonal matrix"
   ]
  },
  {
   "cell_type": "code",
   "execution_count": null,
   "metadata": {},
   "outputs": [],
   "source": [
    "def tri_matrix(matrix,d,):\n",
    "    \n",
    "    return"
   ]
  }
 ],
 "metadata": {
  "kernelspec": {
   "display_name": "Python 3",
   "language": "python",
   "name": "python3"
  },
  "language_info": {
   "codemirror_mode": {
    "name": "ipython",
    "version": 3
   },
   "file_extension": ".py",
   "mimetype": "text/x-python",
   "name": "python",
   "nbconvert_exporter": "python",
   "pygments_lexer": "ipython3",
   "version": "3.6.7"
  }
 },
 "nbformat": 4,
 "nbformat_minor": 2
}
