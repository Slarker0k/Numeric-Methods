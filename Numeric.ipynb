{
 "cells": [
  {
   "cell_type": "code",
   "execution_count": 3,
   "metadata": {},
   "outputs": [],
   "source": [
    "from numpy import sign\n",
    "from numpy import sin,cos\n",
    "import math\n",
    "from scipy.misc import derivative\n",
    "import numpy as np"
   ]
  },
  {
   "cell_type": "code",
   "execution_count": 173,
   "metadata": {},
   "outputs": [],
   "source": [
    "def f(x):\n",
    "    return (x+18)**(0.5)+1-x"
   ]
  },
  {
   "cell_type": "markdown",
   "metadata": {},
   "source": [
    "# Bisection"
   ]
  },
  {
   "cell_type": "code",
   "execution_count": 174,
   "metadata": {},
   "outputs": [],
   "source": [
    "def bisection(f, a, b, tol = 0.00001, eps = 0.0001,max_iter = 100):\n",
    "    i=0\n",
    "    c = (a+b)/2.0\n",
    "    while(abs(c-a)>=eps and f(c)!=0 and (b-a)/2.0 > tol and max_iter>i):\n",
    "        if sign(f(c))==sign(f(a)):\n",
    "            a=c\n",
    "        else: \n",
    "            b=c\n",
    "        i+=1\n",
    "        if i%10 == 0:\n",
    "            print(\"Iteration #\",i,\" c: \",c)\n",
    "        c = (a+b)/2.0\n",
    "    return (c,i, a,b)"
   ]
  },
  {
   "cell_type": "code",
   "execution_count": 175,
   "metadata": {},
   "outputs": [],
   "source": [
    "a,b = 0,10\n",
    "eps = 0.00001\n",
    "tol = 0.00001"
   ]
  },
  {
   "cell_type": "code",
   "execution_count": 176,
   "metadata": {},
   "outputs": [
    {
     "name": "stdout",
     "output_type": "stream",
     "text": [
      "Iteration # 10  c:  5.888671875\n"
     ]
    },
    {
     "data": {
      "text/plain": [
       "(5.887479782104492, 19, 5.887470245361328, 5.887489318847656)"
      ]
     },
     "execution_count": 176,
     "metadata": {},
     "output_type": "execute_result"
    }
   ],
   "source": [
    "bisection(f,a,b,tol,eps)"
   ]
  },
  {
   "cell_type": "markdown",
   "metadata": {},
   "source": [
    "# Fixed-point iteration"
   ]
  },
  {
   "cell_type": "code",
   "execution_count": 177,
   "metadata": {},
   "outputs": [],
   "source": [
    "def fixedPointIter(f,x,eps=0.1,maxIter=100):\n",
    "    x1 = f(x)\n",
    "    i=0\n",
    "    while(abs(x1-x)>eps and i<(maxIter+1)):\n",
    "        x=x1\n",
    "        if(i%10==0):\n",
    "            print(i,x)\n",
    "        x1 = f(x)\n",
    "        i+=1\n",
    "    return (x1,i)\n"
   ]
  },
  {
   "cell_type": "code",
   "execution_count": 180,
   "metadata": {},
   "outputs": [
    {
     "name": "stdout",
     "output_type": "stream",
     "text": [
      "0 2.58257569495584\n",
      "10 2.7176877155035593\n"
     ]
    },
    {
     "data": {
      "text/plain": [
       "(2.822625172141249, 13)"
      ]
     },
     "execution_count": 180,
     "metadata": {},
     "output_type": "execute_result"
    }
   ],
   "source": [
    "fixedPointIter(f,3)"
   ]
  },
  {
   "cell_type": "markdown",
   "metadata": {},
   "source": [
    "## Newtons"
   ]
  },
  {
   "cell_type": "code",
   "execution_count": 71,
   "metadata": {},
   "outputs": [],
   "source": [
    "def df(x):\n",
    "    return 4*(x**3)-1"
   ]
  },
  {
   "cell_type": "code",
   "execution_count": 156,
   "metadata": {},
   "outputs": [],
   "source": [
    "def newtons(f,x0,eps=0.0001,maxIter=100,df=None,useScipy=False,derivativeH=0.00000000001):\n",
    "    i=0\n",
    "    def deriv(f,x,h):\n",
    "        return (f(x+h)-f(x))/h\n",
    "    def g(xi):\n",
    "        if df!=None:\n",
    "            return xi-(f(xi)/df(xi))\n",
    "        if useScipy:\n",
    "            return xi-(f(xi)/derivative(f,xi))\n",
    "        return xi-(f(xi)/deriv(f,xi,derivativeH))    \n",
    "    x=g(x0)\n",
    "    while(i<maxIter and abs(x-x0)>eps):\n",
    "        x0=x\n",
    "        x=g(x0)\n",
    "        i+=1\n",
    "    return x,i"
   ]
  },
  {
   "cell_type": "code",
   "execution_count": 179,
   "metadata": {},
   "outputs": [
    {
     "data": {
      "text/plain": [
       "(5.887482193696052, 3)"
      ]
     },
     "execution_count": 179,
     "metadata": {},
     "output_type": "execute_result"
    }
   ],
   "source": [
    "newtons(f,0,eps=0.000001)"
   ]
  },
  {
   "cell_type": "markdown",
   "metadata": {},
   "source": [
    "## Gaussian"
   ]
  },
  {
   "cell_type": "code",
   "execution_count": 67,
   "metadata": {},
   "outputs": [],
   "source": [
    "matrix = np.array([[3,4,-1],[0,0,10],[0,0,-2]])#,dtype=np.float64)\n",
    "b=np.array([-6,-8,-2],dtype=np.float64)\n",
    "n=b.shape[0]"
   ]
  },
  {
   "cell_type": "code",
   "execution_count": 68,
   "metadata": {},
   "outputs": [],
   "source": [
    "def gaussian(matrix,b_vect,n):\n",
    "    matrix = matrix.astype(np.float64)\n",
    "    b_vect = b_vect.astype(np.float64)\n",
    "    matrix=np.hstack([matrix,b_vect.reshape(-1,1)])\n",
    "    \n",
    "    needToSwap = False\n",
    "#     print(matrix)\n",
    "    for i in range(n):\n",
    "#         print(matrix)\n",
    "        if matrix[i][i]==0:\n",
    "            needToSwap=True\n",
    "            for k in range(n):\n",
    "                if matrix[k][i]!=0 and matrix[i][k]!=0:\n",
    "#                     print(\"swapping \",i,\" \",k)\n",
    "                    temp = matrix[k].copy()\n",
    "                    matrix[k] = matrix[i]\n",
    "                    matrix[i] = temp\n",
    "                    needToSwap = False\n",
    "                    break\n",
    "    if needToSwap:\n",
    "       return \"************Division by zero!!!************\" \n",
    "#     print(matrix)\n",
    "    for i in range(n):\n",
    "        matrix[i]/=matrix[i][i]\n",
    "        for j in range(i,n):\n",
    "            if j != n-1:\n",
    "                matrix[j+1]-=matrix[i]*matrix[j+1][i]\n",
    "    res = []\n",
    "    res.append(matrix[n-1][n])\n",
    "#     print(matrix)\n",
    "    for i in range(n-1,-1,-1):\n",
    "        for j in range(n-1,i,-1):\n",
    "            matrix[i][n]-=res[n-j]*matrix[i][j]\n",
    "            matrix[i][j]=0\n",
    "#             print(matrix)\n",
    "        res.append(matrix[i][n])\n",
    "    return res[::-1][:n]"
   ]
  },
  {
   "cell_type": "code",
   "execution_count": 69,
   "metadata": {},
   "outputs": [
    {
     "data": {
      "text/plain": [
       "'************Division by zero!!!************'"
      ]
     },
     "execution_count": 69,
     "metadata": {},
     "output_type": "execute_result"
    }
   ],
   "source": [
    "gaussian(matrix,b,n)"
   ]
  },
  {
   "cell_type": "markdown",
   "metadata": {},
   "source": [
    "## Tridiagonal matrix"
   ]
  },
  {
   "cell_type": "code",
   "execution_count": null,
   "metadata": {},
   "outputs": [],
   "source": [
    "def tri_matrix():\n",
    "    return"
   ]
  }
 ],
 "metadata": {
  "kernelspec": {
   "display_name": "Python 3",
   "language": "python",
   "name": "python3"
  },
  "language_info": {
   "codemirror_mode": {
    "name": "ipython",
    "version": 3
   },
   "file_extension": ".py",
   "mimetype": "text/x-python",
   "name": "python",
   "nbconvert_exporter": "python",
   "pygments_lexer": "ipython3",
   "version": "3.6.7"
  }
 },
 "nbformat": 4,
 "nbformat_minor": 2
}
